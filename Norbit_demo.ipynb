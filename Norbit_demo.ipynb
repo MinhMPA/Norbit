{
 "cells": [
  {
   "cell_type": "code",
   "execution_count": 6,
   "id": "collected-norman",
   "metadata": {},
   "outputs": [],
   "source": [
    "import Norbit\n",
    "from Norbit.body import Body\n",
    "from Norbit.hamiltonian import *\n",
    "from Norbit.integrators import RungeKutta_4\n",
    "from Norbit.simulation import OrbitSimulation\n",
    "from examples.initial_conditions_outer_solar import *"
   ]
  },
  {
   "cell_type": "code",
   "execution_count": 7,
   "id": "motivated-firewall",
   "metadata": {},
   "outputs": [],
   "source": [
    "# Initial condition setup\n",
    "Sun = Body(mass=m_Sun,\n",
    "           position = q0_Sun,\n",
    "           velocity = v0_Sun,\n",
    "           name='Sun')\n",
    "Jupyter = Body(mass=m_Jupyter,\n",
    "           position = q0_Jupyter,\n",
    "           velocity = v0_Jupyter,\n",
    "           name='Jupyter')\n",
    "Saturn = Body(mass=m_Saturn,\n",
    "           position = q0_Saturn,\n",
    "           velocity = v0_Saturn,\n",
    "           name='Saturn')\n",
    "Uranus = Body(mass=m_Uranus,\n",
    "           position = q0_Uranus,\n",
    "           velocity = v0_Uranus,\n",
    "           name='Uranus')\n",
    "Neptune = Body(mass=m_Neptune,\n",
    "           position = q0_Neptune,\n",
    "           velocity = v0_Neptune,\n",
    "           name='Neptune')\n",
    "Pluto = Body(mass=m_Pluto,\n",
    "           position = q0_Pluto,\n",
    "           velocity = v0_Pluto,\n",
    "           name='Pluto')\n",
    "bodies = [Sun, Jupyter, Saturn, Uranus, Neptune, Pluto]"
   ]
  },
  {
   "cell_type": "code",
   "execution_count": 11,
   "id": "incoming-drill",
   "metadata": {},
   "outputs": [
    {
     "data": {
      "application/vnd.jupyter.widget-view+json": {
       "model_id": "9d028ebd90234ab282798d284a956ec3",
       "version_major": 2,
       "version_minor": 0
      },
      "text/plain": [
       "  0%|          | 0/100000 [00:00<?, ?it/s]"
      ]
     },
     "metadata": {},
     "output_type": "display_data"
    }
   ],
   "source": [
    "# Simulation setup\n",
    "timestep = 10. # step size in Earth days\n",
    "orbit_duration = 2.E5 # orbit duration in Earth days\n",
    "simulation_lf1 = OrbitSimulation(bodies)\n",
    "simulation_lf1.specify_Hamiltonian(dVdq)\n",
    "simulation_lf1.run(orbit_duration,timestep)"
   ]
  },
  {
   "cell_type": "code",
   "execution_count": 12,
   "id": "female-subcommittee",
   "metadata": {},
   "outputs": [],
   "source": [
    "%matplotlib qt\n",
    "from mpl_toolkits.mplot3d import Axes3D\n",
    "fig = plt.figure()\n",
    "ax = fig.gca(projection='3d')\n",
    "for n in range(len(bodies)):\n",
    "    ax.plot(simulation_lf1.q_history[:,n,0],simulation_lf1.q_history[:,n,1],simulation_lf1.q_history[:,n,2],lw=0.5,label=bodies[n].name)\n",
    "ax.set_title(r'Orbits in Outer Solar System, simulated by KDK leapfrog, $h=10$ days, $T=2\\times10^5$ days')\n",
    "ax.legend(frameon=False,loc='upper left', bbox_to_anchor=(0.85, 0., 0.5, 0.5))\n",
    "# make the panes transparent\n",
    "ax.xaxis.set_pane_color((1.0, 1.0, 1.0, 0.0))\n",
    "ax.yaxis.set_pane_color((1.0, 1.0, 1.0, 0.0))\n",
    "ax.zaxis.set_pane_color((1.0, 1.0, 1.0, 0.0))\n",
    "# make the grid lines transparent\n",
    "ax.xaxis._axinfo[\"grid\"]['color'] =  (1,1,1,0)\n",
    "ax.yaxis._axinfo[\"grid\"]['color'] =  (1,1,1,0)\n",
    "ax.zaxis._axinfo[\"grid\"]['color'] =  (1,1,1,0)"
   ]
  },
  {
   "cell_type": "code",
   "execution_count": null,
   "id": "greek-twist",
   "metadata": {},
   "outputs": [],
   "source": [
    "# Simulation setup\n",
    "timestep = 10. # step size in Earth days\n",
    "orbit_duration = 2.E5 # orbit duration in Earth days\n",
    "simulation_rk = simulation.OrbitSimulation(bodies)\n",
    "simulation_rk.specify_Hamiltonian(f)\n",
    "simulation_rk.run(orbit_duration,timestep,integrator=RungeKutta_4)"
   ]
  },
  {
   "cell_type": "code",
   "execution_count": null,
   "id": "portable-entry",
   "metadata": {},
   "outputs": [],
   "source": [
    "%matplotlib qt\n",
    "from mpl_toolkits.mplot3d import Axes3D\n",
    "fig = plt.figure()\n",
    "ax = fig.gca(projection='3d')\n",
    "for n in range(len(bodies)):\n",
    "    ax.plot(simulation_rk.q_history[:,n,0],simulation_rk.q_history[:,n,1],simulation_rk.q_history[:,n,2],lw=0.5,label=bodies[n].name)\n",
    "ax.set_title(r'Orbits in Outer Solar System, simulated by 4th-order RungeKutta, $h=10$ days, $T=2\\times10^5$ days')\n",
    "ax.legend(frameon=False,loc='upper left', bbox_to_anchor=(0.85, 0., 0.5, 0.5))\n",
    "# make the panes transparent\n",
    "ax.xaxis.set_pane_color((1.0, 1.0, 1.0, 0.0))\n",
    "ax.yaxis.set_pane_color((1.0, 1.0, 1.0, 0.0))\n",
    "ax.zaxis.set_pane_color((1.0, 1.0, 1.0, 0.0))\n",
    "# make the grid lines transparent\n",
    "ax.xaxis._axinfo[\"grid\"]['color'] =  (1,1,1,0)\n",
    "ax.yaxis._axinfo[\"grid\"]['color'] =  (1,1,1,0)\n",
    "ax.zaxis._axinfo[\"grid\"]['color'] =  (1,1,1,0)"
   ]
  },
  {
   "cell_type": "code",
   "execution_count": null,
   "id": "normal-contact",
   "metadata": {},
   "outputs": [],
   "source": []
  }
 ],
 "metadata": {
  "kernelspec": {
   "display_name": "Python 3",
   "language": "python",
   "name": "python3"
  },
  "language_info": {
   "codemirror_mode": {
    "name": "ipython",
    "version": 3
   },
   "file_extension": ".py",
   "mimetype": "text/x-python",
   "name": "python",
   "nbconvert_exporter": "python",
   "pygments_lexer": "ipython3",
   "version": "3.6.13"
  }
 },
 "nbformat": 4,
 "nbformat_minor": 5
}
